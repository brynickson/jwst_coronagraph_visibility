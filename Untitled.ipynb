{
 "cells": [
  {
   "cell_type": "code",
   "execution_count": 1,
   "metadata": {},
   "outputs": [],
   "source": [
    "from __future__ import print_function, division\n",
    "import sys\n",
    "try:\n",
    "    from tkinter import *\n",
    "    from tkinter import ttk\n",
    "except ImportError:\n",
    "    from Tkinter import *\n",
    "    import ttk\n",
    "import os\n",
    "import os.path\n",
    "import datetime\n",
    "import re\n",
    "from collections import namedtuple\n",
    "from contextlib import contextmanager\n",
    "\n",
    "try:\n",
    "    from urllib import quote\n",
    "except ImportError:\n",
    "    from urllib.parse import quote\n",
    "\n",
    "import matplotlib\n",
    "matplotlib.use('TkAgg')\n",
    "from matplotlib import patches\n",
    "from matplotlib import pyplot as plt\n",
    "plt.style.use('ggplot')"
   ]
  },
  {
   "cell_type": "code",
   "execution_count": 2,
   "metadata": {},
   "outputs": [],
   "source": [
    "try:\n",
    "    from matplotlib.backends.backend_tkagg import NavigationToolbar2TkAgg\n",
    "except ImportError:\n",
    "    from matplotlib.backends.backend_tkagg import NavigationToolbar2Tk as NavigationToolbar2TkAgg\n",
    "from matplotlib.backends.backend_tkagg import FigureCanvasTkAgg\n",
    "# implement the default mpl key bindings\n",
    "from matplotlib.backend_bases import key_press_handler\n",
    "from matplotlib.figure import Figure\n",
    "from matplotlib.collections import PatchCollection\n",
    "from matplotlib.patches import Polygon\n",
    "from matplotlib.text import Annotation\n",
    "import numpy as np\n",
    "import requests\n",
    "import requests.exceptions\n",
    "# if getattr(sys, 'frozen', False):\n",
    "#     # we are running in a bundle\n",
    "#     bundle_dir = sys._MEIPASS\n",
    "# else:\n",
    "#     # we are running in a normal Python environment\n",
    "#     bundle_dir = os.path.dirname(os.path.abspath(__file__))\n",
    "bundle_dir = '/Users/hagan/Master_Folder/James_Hagan/STScI/Functional/CVT/jwst_coronagraph_visibility/'\n"
   ]
  },
  {
   "cell_type": "code",
   "execution_count": 9,
   "metadata": {},
   "outputs": [],
   "source": [
    "SimbadResult = namedtuple('SimbadResult', ['ra', 'dec', 'id'])"
   ]
  },
  {
   "cell_type": "code",
   "execution_count": 3,
   "metadata": {},
   "outputs": [],
   "source": [
    "# from jwxml import SIAF\n",
    "# import jwxml\n",
    "from jwst_coronagraph_visibility.skyvec2ins import skyvec2ins, ad2lb, lb2ad"
   ]
  },
  {
   "cell_type": "code",
   "execution_count": 15,
   "metadata": {},
   "outputs": [],
   "source": [
    "from pprint import pprint\n",
    "\n",
    "RED_GGPLOT = '#E24A33'\n",
    "BLUE_GGPLOT = '#348ABD'\n",
    "PURPLE_GGPLOT = '#988ED5'\n",
    "GRAY_GGPLOT = '#777777'\n",
    "YELLOW_GGPLOT = '#FBC15E'\n",
    "GREEN_GGPLOT = '#8EBA42'\n",
    "PINK_GGPLOT = '#FFB5B8'\n",
    "\n",
    "QUERY_TIMEOUT_SEC = 1.0\n",
    "\n",
    "DEFAULT_NPOINTS = 360\n",
    "DEFAULT_NROLLS = 20"
   ]
  },
  {
   "cell_type": "code",
   "execution_count": 39,
   "metadata": {},
   "outputs": [],
   "source": []
  },
  {
   "cell_type": "code",
   "execution_count": 58,
   "metadata": {},
   "outputs": [
    {
     "name": "stdout",
     "output_type": "stream",
     "text": [
      "83.93435203746743 -445.962251566042\n",
      "86.103458 -493.227512\n"
     ]
    },
    {
     "data": {
      "text/plain": [
       "(-2.1691059625325693, 47.26526043395796)"
      ]
     },
     "execution_count": 58,
     "metadata": {},
     "output_type": "execute_result"
    }
   ],
   "source": [
    "_NIRCAM_SIAF = SIAF('NIRCam')\n",
    "_MIRI_SIAF = SIAF('MIRI')\n",
    "aperture_a = _NIRCAM_SIAF['NRCA5_MASKLWB']\n",
    "aperture_b = _NIRCAM_SIAF['NRCA5_FULL']\n",
    "x_a, y_a = aperture_a.Det2Tel(aperture_b.XDetRef,  aperture_b.YDetRef)\n",
    "x_b, y_b = aperture_b.Det2Tel(aperture_b.XDetRef,  aperture_b.YDetRef)\n",
    "print(x_a, y_a)\n",
    "print(x_b, y_b)\n",
    "x_a - x_b, y_a - y_b"
   ]
  },
  {
   "cell_type": "code",
   "execution_count": null,
   "metadata": {},
   "outputs": [],
   "source": []
  },
  {
   "cell_type": "code",
   "execution_count": 56,
   "metadata": {},
   "outputs": [],
   "source": [
    "def compute_v2v3_offset_old(aperture_a, aperture_b):\n",
    "    '''\n",
    "    For the same pixel coordinates, different V2, V3 coordinates are used\n",
    "    depending on whether the coronagraph pupil wheel wedge is in the beam.\n",
    "    The offset is computed by transforming the same pixel (Det) coordinates\n",
    "    to V2, V3 in two different apertures and computing the difference in\n",
    "    the resulting Tel frame coordinates\n",
    "    '''\n",
    "    x_a, y_a = aperture_a.Det2Tel(aperture_b.XDetRef,  aperture_b.YDetRef)\n",
    "    x_b, y_b = aperture_b.Det2Tel(aperture_b.XDetRef,  aperture_b.YDetRef)\n",
    "    return x_a - x_b, y_a - y_b\n",
    "\n",
    "#  def Det2Tel(self, *args):\n",
    "#         return self.Idl2Tel(*self.Sci2Idl(*self.Det2Sci(*args)))\n",
    "\n",
    "_NIRCAM_SIAF = pysiaf.Siaf('NIRCam')\n",
    "_MIRI_SIAF = pysiaf.Siaf('MIRI')\n",
    "\n",
    "def compute_v2v3_offset(aperture_a, aperture_b):\n",
    "    '''\n",
    "    For the same pixel coordinates, different V2, V3 coordinates are used\n",
    "    depending on whether the coronagraph pupil wheel wedge is in the beam.\n",
    "    The offset is computed by transforming the same pixel (Det) coordinates\n",
    "    to V2, V3 in two different apertures and computing the difference in\n",
    "    the resulting Tel frame coordinates\n",
    "    '''\n",
    "    x_a, y_a  = aperture_a.det_to_tel(aperture_b.XDetRef,  aperture_b.YDetRef)\n",
    "    x_b, y_b = aperture_b.det_to_tel(aperture_b.XDetRef,  aperture_b.YDetRef)\n",
    "    return x_a - x_b, y_a - y_b"
   ]
  },
  {
   "cell_type": "code",
   "execution_count": 59,
   "metadata": {},
   "outputs": [
    {
     "data": {
      "text/plain": [
       "(-2.0946250211366646, 47.08855519864545)"
      ]
     },
     "execution_count": 59,
     "metadata": {},
     "output_type": "execute_result"
    }
   ],
   "source": [
    "_NIRCAM_SIAF = pysiaf.Siaf('NIRCam')\n",
    "_MIRI_SIAF = pysiaf.Siaf('MIRI')\n",
    "aperture_a = _NIRCAM_SIAF['NRCA5_MASKLWB']\n",
    "aperture_b = _NIRCAM_SIAF['NRCA5_FULL']\n",
    "compute_v2v3_offset(aperture_a, aperture_b)\n",
    "# x_a, y_a  = aperture_a.det_to_tel(aperture_b.XDetRef,  aperture_b.YDetRef)\n",
    "# x_b, y_b = aperture_b.det_to_tel(aperture_b.XDetRef,  aperture_b.YDetRef)\n",
    "# print(x_a, y_a)\n",
    "# print(x_b, y_b)"
   ]
  },
  {
   "cell_type": "code",
   "execution_count": 66,
   "metadata": {},
   "outputs": [
    {
     "data": {
      "text/plain": [
       "(array([-10.05513171,  10.00549537,   9.97543771, -10.02460133]),\n",
       " array([-10.01035339, -10.02365499,  10.09888995,  10.07636441]))"
      ]
     },
     "execution_count": 66,
     "metadata": {},
     "output_type": "execute_result"
    }
   ],
   "source": [
    "aperture_a.corners(to_frame = 'idl')"
   ]
  },
  {
   "cell_type": "code",
   "execution_count": 60,
   "metadata": {},
   "outputs": [
    {
     "data": {
      "text/plain": [
       "(83.94438597886334, -446.2971488013545)"
      ]
     },
     "execution_count": 60,
     "metadata": {},
     "output_type": "execute_result"
    }
   ],
   "source": [
    "aperture_a.det_to_tel(aperture_b.XDetRef,  aperture_b.YDetRef)"
   ]
  },
  {
   "cell_type": "code",
   "execution_count": 67,
   "metadata": {},
   "outputs": [],
   "source": [
    "from pysiaf import Siaf"
   ]
  },
  {
   "cell_type": "code",
   "execution_count": 70,
   "metadata": {},
   "outputs": [
    {
     "data": {
      "text/plain": [
       "<pysiaf.Siaf object Instrument=miri >"
      ]
     },
     "execution_count": 70,
     "metadata": {},
     "output_type": "execute_result"
    }
   ],
   "source": [
    "Siaf(instrument = 'MIRI')"
   ]
  },
  {
   "cell_type": "code",
   "execution_count": 61,
   "metadata": {},
   "outputs": [
    {
     "data": {
      "text/plain": [
       "['AperName',\n",
       " 'AperShape',\n",
       " 'AperType',\n",
       " 'Comment',\n",
       " 'DDCName',\n",
       " 'DetSciParity',\n",
       " 'DetSciYAngle',\n",
       " 'Idl2SciX00',\n",
       " 'Idl2SciX10',\n",
       " 'Idl2SciX11',\n",
       " 'Idl2SciX20',\n",
       " 'Idl2SciX21',\n",
       " 'Idl2SciX22',\n",
       " 'Idl2SciX30',\n",
       " 'Idl2SciX31',\n",
       " 'Idl2SciX32',\n",
       " 'Idl2SciX33',\n",
       " 'Idl2SciX40',\n",
       " 'Idl2SciX41',\n",
       " 'Idl2SciX42',\n",
       " 'Idl2SciX43',\n",
       " 'Idl2SciX44',\n",
       " 'Idl2SciX50',\n",
       " 'Idl2SciX51',\n",
       " 'Idl2SciX52',\n",
       " 'Idl2SciX53',\n",
       " 'Idl2SciX54',\n",
       " 'Idl2SciX55',\n",
       " 'Idl2SciY00',\n",
       " 'Idl2SciY10',\n",
       " 'Idl2SciY11',\n",
       " 'Idl2SciY20',\n",
       " 'Idl2SciY21',\n",
       " 'Idl2SciY22',\n",
       " 'Idl2SciY30',\n",
       " 'Idl2SciY31',\n",
       " 'Idl2SciY32',\n",
       " 'Idl2SciY33',\n",
       " 'Idl2SciY40',\n",
       " 'Idl2SciY41',\n",
       " 'Idl2SciY42',\n",
       " 'Idl2SciY43',\n",
       " 'Idl2SciY44',\n",
       " 'Idl2SciY50',\n",
       " 'Idl2SciY51',\n",
       " 'Idl2SciY52',\n",
       " 'Idl2SciY53',\n",
       " 'Idl2SciY54',\n",
       " 'Idl2SciY55',\n",
       " 'InstrName',\n",
       " 'Sci2IdlDeg',\n",
       " 'Sci2IdlX00',\n",
       " 'Sci2IdlX10',\n",
       " 'Sci2IdlX11',\n",
       " 'Sci2IdlX20',\n",
       " 'Sci2IdlX21',\n",
       " 'Sci2IdlX22',\n",
       " 'Sci2IdlX30',\n",
       " 'Sci2IdlX31',\n",
       " 'Sci2IdlX32',\n",
       " 'Sci2IdlX33',\n",
       " 'Sci2IdlX40',\n",
       " 'Sci2IdlX41',\n",
       " 'Sci2IdlX42',\n",
       " 'Sci2IdlX43',\n",
       " 'Sci2IdlX44',\n",
       " 'Sci2IdlX50',\n",
       " 'Sci2IdlX51',\n",
       " 'Sci2IdlX52',\n",
       " 'Sci2IdlX53',\n",
       " 'Sci2IdlX54',\n",
       " 'Sci2IdlX55',\n",
       " 'Sci2IdlY00',\n",
       " 'Sci2IdlY10',\n",
       " 'Sci2IdlY11',\n",
       " 'Sci2IdlY20',\n",
       " 'Sci2IdlY21',\n",
       " 'Sci2IdlY22',\n",
       " 'Sci2IdlY30',\n",
       " 'Sci2IdlY31',\n",
       " 'Sci2IdlY32',\n",
       " 'Sci2IdlY33',\n",
       " 'Sci2IdlY40',\n",
       " 'Sci2IdlY41',\n",
       " 'Sci2IdlY42',\n",
       " 'Sci2IdlY43',\n",
       " 'Sci2IdlY44',\n",
       " 'Sci2IdlY50',\n",
       " 'Sci2IdlY51',\n",
       " 'Sci2IdlY52',\n",
       " 'Sci2IdlY53',\n",
       " 'Sci2IdlY54',\n",
       " 'Sci2IdlY55',\n",
       " 'UseAfterDate',\n",
       " 'V2Ref',\n",
       " 'V3IdlYAngle',\n",
       " 'V3Ref',\n",
       " 'V3SciXAngle',\n",
       " 'V3SciYAngle',\n",
       " 'VIdlParity',\n",
       " 'XDetRef',\n",
       " 'XDetSize',\n",
       " 'XIdlVert1',\n",
       " 'XIdlVert2',\n",
       " 'XIdlVert3',\n",
       " 'XIdlVert4',\n",
       " 'XSciRef',\n",
       " 'XSciScale',\n",
       " 'XSciSize',\n",
       " 'YDetRef',\n",
       " 'YDetSize',\n",
       " 'YIdlVert1',\n",
       " 'YIdlVert2',\n",
       " 'YIdlVert3',\n",
       " 'YIdlVert4',\n",
       " 'YSciRef',\n",
       " 'YSciScale',\n",
       " 'YSciSize',\n",
       " '__class__',\n",
       " '__delattr__',\n",
       " '__dict__',\n",
       " '__dir__',\n",
       " '__doc__',\n",
       " '__eq__',\n",
       " '__format__',\n",
       " '__ge__',\n",
       " '__getattribute__',\n",
       " '__gt__',\n",
       " '__hash__',\n",
       " '__init__',\n",
       " '__init_subclass__',\n",
       " '__le__',\n",
       " '__lt__',\n",
       " '__module__',\n",
       " '__ne__',\n",
       " '__new__',\n",
       " '__reduce__',\n",
       " '__reduce_ex__',\n",
       " '__repr__',\n",
       " '__setattr__',\n",
       " '__sizeof__',\n",
       " '__str__',\n",
       " '__subclasshook__',\n",
       " '__weakref__',\n",
       " '_accepted_aperture_types',\n",
       " '_correct_dva',\n",
       " '_dva_parameters',\n",
       " '_initial_attributes_validated',\n",
       " '_observatory',\n",
       " '_parent_apertures',\n",
       " 'closed_polygon_points',\n",
       " 'complement',\n",
       " 'convert',\n",
       " 'corners',\n",
       " 'correct_for_dva',\n",
       " 'det_to_idl',\n",
       " 'det_to_raw',\n",
       " 'det_to_sci',\n",
       " 'det_to_tel',\n",
       " 'detector_transform',\n",
       " 'distortion_transform',\n",
       " 'get_polynomial_coefficients',\n",
       " 'idl_to_det',\n",
       " 'idl_to_raw',\n",
       " 'idl_to_sci',\n",
       " 'idl_to_tel',\n",
       " 'observatory',\n",
       " 'path',\n",
       " 'plot',\n",
       " 'plot_detector_channels',\n",
       " 'plot_frame_origin',\n",
       " 'raw_to_det',\n",
       " 'raw_to_idl',\n",
       " 'raw_to_sci',\n",
       " 'raw_to_tel',\n",
       " 'reference_point',\n",
       " 'sci_to_det',\n",
       " 'sci_to_idl',\n",
       " 'sci_to_raw',\n",
       " 'sci_to_tel',\n",
       " 'set_polynomial_coefficients',\n",
       " 'tel_to_det',\n",
       " 'tel_to_idl',\n",
       " 'tel_to_raw',\n",
       " 'tel_to_sci',\n",
       " 'telescope_transform',\n",
       " 'validate',\n",
       " 'verify']"
      ]
     },
     "execution_count": 61,
     "metadata": {},
     "output_type": "execute_result"
    }
   ],
   "source": [
    "dir(aperture_a)"
   ]
  },
  {
   "cell_type": "code",
   "execution_count": 28,
   "metadata": {},
   "outputs": [
    {
     "ename": "AttributeError",
     "evalue": "'JwstAperture' object has no attribute 'Det2Tel'",
     "output_type": "error",
     "traceback": [
      "\u001b[0;31m---------------------------------------------------------------------------\u001b[0m",
      "\u001b[0;31mAttributeError\u001b[0m                            Traceback (most recent call last)",
      "\u001b[0;32m<ipython-input-28-2c96a1525813>\u001b[0m in \u001b[0;36m<module>\u001b[0;34m\u001b[0m\n\u001b[1;32m      1\u001b[0m _NIRCAM_CORON_OFFSET_TEL = compute_v2v3_offset(\n\u001b[1;32m      2\u001b[0m     \u001b[0m_NIRCAM_SIAF\u001b[0m\u001b[0;34m[\u001b[0m\u001b[0;34m'NRCA5_MASKLWB'\u001b[0m\u001b[0;34m]\u001b[0m\u001b[0;34m,\u001b[0m\u001b[0;34m\u001b[0m\u001b[0;34m\u001b[0m\u001b[0m\n\u001b[0;32m----> 3\u001b[0;31m     _NIRCAM_SIAF['NRCA5_FULL'])\n\u001b[0m",
      "\u001b[0;32m<ipython-input-27-f1bf34c724f0>\u001b[0m in \u001b[0;36mcompute_v2v3_offset\u001b[0;34m(aperture_a, aperture_b)\u001b[0m\n\u001b[1;32m      7\u001b[0m     \u001b[0mthe\u001b[0m \u001b[0mresulting\u001b[0m \u001b[0mTel\u001b[0m \u001b[0mframe\u001b[0m \u001b[0mcoordinates\u001b[0m\u001b[0;34m\u001b[0m\u001b[0;34m\u001b[0m\u001b[0m\n\u001b[1;32m      8\u001b[0m     '''\n\u001b[0;32m----> 9\u001b[0;31m     \u001b[0mx_a\u001b[0m\u001b[0;34m,\u001b[0m \u001b[0my_a\u001b[0m \u001b[0;34m=\u001b[0m \u001b[0maperture_a\u001b[0m\u001b[0;34m.\u001b[0m\u001b[0mDet2Tel\u001b[0m\u001b[0;34m(\u001b[0m\u001b[0maperture_b\u001b[0m\u001b[0;34m.\u001b[0m\u001b[0mXDetRef\u001b[0m\u001b[0;34m,\u001b[0m  \u001b[0maperture_b\u001b[0m\u001b[0;34m.\u001b[0m\u001b[0mYDetRef\u001b[0m\u001b[0;34m)\u001b[0m\u001b[0;34m\u001b[0m\u001b[0;34m\u001b[0m\u001b[0m\n\u001b[0m\u001b[1;32m     10\u001b[0m     \u001b[0mx_b\u001b[0m\u001b[0;34m,\u001b[0m \u001b[0my_b\u001b[0m \u001b[0;34m=\u001b[0m \u001b[0maperture_b\u001b[0m\u001b[0;34m.\u001b[0m\u001b[0mDet2Tel\u001b[0m\u001b[0;34m(\u001b[0m\u001b[0maperture_b\u001b[0m\u001b[0;34m.\u001b[0m\u001b[0mXDetRef\u001b[0m\u001b[0;34m,\u001b[0m  \u001b[0maperture_b\u001b[0m\u001b[0;34m.\u001b[0m\u001b[0mYDetRef\u001b[0m\u001b[0;34m)\u001b[0m\u001b[0;34m\u001b[0m\u001b[0;34m\u001b[0m\u001b[0m\n\u001b[1;32m     11\u001b[0m     \u001b[0;32mreturn\u001b[0m \u001b[0mx_a\u001b[0m \u001b[0;34m-\u001b[0m \u001b[0mx_b\u001b[0m\u001b[0;34m,\u001b[0m \u001b[0my_a\u001b[0m \u001b[0;34m-\u001b[0m \u001b[0my_b\u001b[0m\u001b[0;34m\u001b[0m\u001b[0;34m\u001b[0m\u001b[0m\n",
      "\u001b[0;31mAttributeError\u001b[0m: 'JwstAperture' object has no attribute 'Det2Tel'"
     ]
    }
   ],
   "source": [
    "_NIRCAM_CORON_OFFSET_TEL = compute_v2v3_offset(\n",
    "    _NIRCAM_SIAF['NRCA5_MASKLWB'],\n",
    "    _NIRCAM_SIAF['NRCA5_FULL'])"
   ]
  },
  {
   "cell_type": "code",
   "execution_count": 29,
   "metadata": {},
   "outputs": [
    {
     "data": {
      "text/plain": [
       "(-2.1691059625325693, 47.26526043395796)"
      ]
     },
     "execution_count": 29,
     "metadata": {},
     "output_type": "execute_result"
    }
   ],
   "source": [
    "_NIRCAM_CORON_OFFSET_TEL"
   ]
  },
  {
   "cell_type": "code",
   "execution_count": 22,
   "metadata": {},
   "outputs": [],
   "source": [
    "import pysiaf"
   ]
  },
  {
   "cell_type": "code",
   "execution_count": 31,
   "metadata": {},
   "outputs": [
    {
     "data": {
      "text/plain": [
       "['__class__',\n",
       " '__contains__',\n",
       " '__delattr__',\n",
       " '__delitem__',\n",
       " '__dict__',\n",
       " '__dir__',\n",
       " '__doc__',\n",
       " '__eq__',\n",
       " '__format__',\n",
       " '__ge__',\n",
       " '__getattribute__',\n",
       " '__getitem__',\n",
       " '__gt__',\n",
       " '__hash__',\n",
       " '__init__',\n",
       " '__init_subclass__',\n",
       " '__iter__',\n",
       " '__le__',\n",
       " '__len__',\n",
       " '__lt__',\n",
       " '__ne__',\n",
       " '__new__',\n",
       " '__reduce__',\n",
       " '__reduce_ex__',\n",
       " '__repr__',\n",
       " '__reversed__',\n",
       " '__setattr__',\n",
       " '__setitem__',\n",
       " '__sizeof__',\n",
       " '__str__',\n",
       " '__subclasshook__',\n",
       " 'clear',\n",
       " 'copy',\n",
       " 'fromkeys',\n",
       " 'get',\n",
       " 'items',\n",
       " 'keys',\n",
       " 'move_to_end',\n",
       " 'pop',\n",
       " 'popitem',\n",
       " 'setdefault',\n",
       " 'update',\n",
       " 'values']"
      ]
     },
     "execution_count": 31,
     "metadata": {},
     "output_type": "execute_result"
    }
   ],
   "source": [
    "dir(_MIRI_SIAF.apertures)"
   ]
  },
  {
   "cell_type": "code",
   "execution_count": null,
   "metadata": {},
   "outputs": [],
   "source": []
  },
  {
   "cell_type": "code",
   "execution_count": 25,
   "metadata": {},
   "outputs": [
    {
     "data": {
      "text/plain": [
       "<jwxml.siaf.SIAF at 0x11aff77d0>"
      ]
     },
     "execution_count": 25,
     "metadata": {},
     "output_type": "execute_result"
    }
   ],
   "source": []
  },
  {
   "cell_type": "code",
   "execution_count": 7,
   "metadata": {},
   "outputs": [],
   "source": [
    "import jwst_coronagraph_visibility.gui as gui"
   ]
  },
  {
   "cell_type": "code",
   "execution_count": 75,
   "metadata": {},
   "outputs": [],
   "source": [
    "result = gui.query_simbad('HR 8799')"
   ]
  },
  {
   "cell_type": "code",
   "execution_count": 76,
   "metadata": {},
   "outputs": [
    {
     "data": {
      "text/plain": [
       "SimbadResult(ra=346.86964871, dec=21.13425059, id='HD 218396')"
      ]
     },
     "execution_count": 76,
     "metadata": {},
     "output_type": "execute_result"
    }
   ],
   "source": [
    "result"
   ]
  },
  {
   "cell_type": "code",
   "execution_count": 79,
   "metadata": {},
   "outputs": [],
   "source": [
    "eps = 0.5 / 60. / 60.   # 1/2 arcsec"
   ]
  },
  {
   "cell_type": "code",
   "execution_count": 81,
   "metadata": {},
   "outputs": [
    {
     "data": {
      "text/plain": [
       "True"
      ]
     },
     "execution_count": 81,
     "metadata": {},
     "output_type": "execute_result"
    }
   ],
   "source": [
    "abs(result.ra - 346.86964613) < eps"
   ]
  },
  {
   "cell_type": "code",
   "execution_count": 82,
   "metadata": {},
   "outputs": [
    {
     "data": {
      "text/plain": [
       "True"
      ]
     },
     "execution_count": 82,
     "metadata": {},
     "output_type": "execute_result"
    }
   ],
   "source": [
    "abs(result.dec - 21.13425148) < eps"
   ]
  },
  {
   "cell_type": "code",
   "execution_count": 83,
   "metadata": {},
   "outputs": [
    {
     "data": {
      "text/plain": [
       "True"
      ]
     },
     "execution_count": 83,
     "metadata": {},
     "output_type": "execute_result"
    }
   ],
   "source": [
    "result.id == u'HD 218396'"
   ]
  },
  {
   "cell_type": "code",
   "execution_count": null,
   "metadata": {},
   "outputs": [],
   "source": [
    "gui.query_simbad('sdfsdf')"
   ]
  },
  {
   "cell_type": "code",
   "execution_count": 111,
   "metadata": {},
   "outputs": [],
   "source": [
    "import urllib3\n",
    "import socket"
   ]
  },
  {
   "cell_type": "code",
   "execution_count": 117,
   "metadata": {},
   "outputs": [
    {
     "name": "stdout",
     "output_type": "stream",
     "text": [
      "timeout occurrred\n"
     ]
    }
   ],
   "source": [
    "query_string = 'sdfsdf'\n",
    "try: \n",
    "    response = requests.get('http://cdsweb.u-strasbg.fr/cgi-bin/nph-sesame/-oI?' + quote(query_string), timeout=QUERY_TIMEOUT_SEC)\n",
    "except (requests.exceptions.ConnectionError):\n",
    "    print('timeout occurrred')"
   ]
  },
  {
   "cell_type": "code",
   "execution_count": 10,
   "metadata": {},
   "outputs": [],
   "source": [
    "aperture = gui.get_aperture('NIRCam', 'NRCA2_MASK210R')\n",
    "START_DATE = datetime.datetime(2018, 10, 1)\n",
    "NPOINTS = 360\n",
    "NROLLS = 20\n",
    "MAXVROLL = 10.0"
   ]
  },
  {
   "cell_type": "code",
   "execution_count": 11,
   "metadata": {},
   "outputs": [],
   "source": [
    "computed = skyvec2ins(\n",
    "        ra=344.41269,\n",
    "        dec=-29.62224,\n",
    "        pa1=325,\n",
    "        pa2=0,\n",
    "        pa3=0,\n",
    "        separation_as1=10,\n",
    "        separation_as2=0,\n",
    "        separation_as3=0,\n",
    "        aper=aperture,\n",
    "        start_date=START_DATE,\n",
    "        npoints=NPOINTS,\n",
    "        nrolls=NROLLS,\n",
    "        maxvroll=MAXVROLL,\n",
    "    )"
   ]
  },
  {
   "cell_type": "code",
   "execution_count": 19,
   "metadata": {},
   "outputs": [],
   "source": [
    "from jwst_coronagraph_visibility.tests.test_skyvec2ins import _load_test_case, _compare_outputs"
   ]
  },
  {
   "cell_type": "code",
   "execution_count": 16,
   "metadata": {},
   "outputs": [],
   "source": [
    "reference = _load_test_case('Fomalhaut')"
   ]
  },
  {
   "cell_type": "code",
   "execution_count": 17,
   "metadata": {},
   "outputs": [
    {
     "data": {
      "text/plain": [
       "<generator object _load_test_case.<locals>.<genexpr> at 0xb2abc5050>"
      ]
     },
     "execution_count": 17,
     "metadata": {},
     "output_type": "execute_result"
    }
   ],
   "source": [
    "reference"
   ]
  },
  {
   "cell_type": "code",
   "execution_count": 20,
   "metadata": {},
   "outputs": [
    {
     "ename": "AssertionError",
     "evalue": "",
     "output_type": "error",
     "traceback": [
      "\u001b[0;31m---------------------------------------------------------------------------\u001b[0m",
      "\u001b[0;31mAssertionError\u001b[0m                            Traceback (most recent call last)",
      "\u001b[0;32m<ipython-input-20-f8c97632b9cf>\u001b[0m in \u001b[0;36m<module>\u001b[0;34m\u001b[0m\n\u001b[0;32m----> 1\u001b[0;31m \u001b[0m_compare_outputs\u001b[0m\u001b[0;34m(\u001b[0m\u001b[0mreference\u001b[0m\u001b[0;34m,\u001b[0m \u001b[0mcomputed\u001b[0m\u001b[0;34m)\u001b[0m\u001b[0;34m\u001b[0m\u001b[0;34m\u001b[0m\u001b[0m\n\u001b[0m",
      "\u001b[0;32m~/Master_Folder/James_Hagan/STScI/Functional/CVT/jwst_coronagraph_visibility/jwst_coronagraph_visibility/tests/test_skyvec2ins.py\u001b[0m in \u001b[0;36m_compare_outputs\u001b[0;34m(reference, computed)\u001b[0m\n\u001b[1;32m    161\u001b[0m     \u001b[0;31m# see https://github.com/mperrin/jwxml/issues/4\u001b[0m\u001b[0;34m\u001b[0m\u001b[0;34m\u001b[0m\u001b[0;34m\u001b[0m\u001b[0m\n\u001b[1;32m    162\u001b[0m \u001b[0;34m\u001b[0m\u001b[0m\n\u001b[0;32m--> 163\u001b[0;31m     \u001b[0;32massert\u001b[0m \u001b[0mnp\u001b[0m\u001b[0;34m.\u001b[0m\u001b[0mallclose\u001b[0m\u001b[0;34m(\u001b[0m\u001b[0mc1_x\u001b[0m\u001b[0;34m,\u001b[0m \u001b[0mt_c1_x\u001b[0m\u001b[0;34m,\u001b[0m \u001b[0matol\u001b[0m\u001b[0;34m=\u001b[0m\u001b[0msiaf_transform_epsilon\u001b[0m\u001b[0;34m)\u001b[0m\u001b[0;34m\u001b[0m\u001b[0;34m\u001b[0m\u001b[0m\n\u001b[0m\u001b[1;32m    164\u001b[0m     \u001b[0;32massert\u001b[0m \u001b[0mnp\u001b[0m\u001b[0;34m.\u001b[0m\u001b[0mallclose\u001b[0m\u001b[0;34m(\u001b[0m\u001b[0mc1_y\u001b[0m\u001b[0;34m,\u001b[0m \u001b[0mt_c1_y\u001b[0m\u001b[0;34m,\u001b[0m \u001b[0matol\u001b[0m\u001b[0;34m=\u001b[0m\u001b[0msiaf_transform_epsilon\u001b[0m\u001b[0;34m)\u001b[0m\u001b[0;34m\u001b[0m\u001b[0;34m\u001b[0m\u001b[0m\n\u001b[1;32m    165\u001b[0m     \u001b[0;32massert\u001b[0m \u001b[0mnp\u001b[0m\u001b[0;34m.\u001b[0m\u001b[0mallclose\u001b[0m\u001b[0;34m(\u001b[0m\u001b[0mc2_x\u001b[0m\u001b[0;34m,\u001b[0m \u001b[0mt_c2_x\u001b[0m\u001b[0;34m,\u001b[0m \u001b[0matol\u001b[0m\u001b[0;34m=\u001b[0m\u001b[0msiaf_transform_epsilon\u001b[0m\u001b[0;34m)\u001b[0m\u001b[0;34m\u001b[0m\u001b[0;34m\u001b[0m\u001b[0m\n",
      "\u001b[0;31mAssertionError\u001b[0m: "
     ]
    }
   ],
   "source": [
    "_compare_outputs(reference, computed)"
   ]
  },
  {
   "cell_type": "code",
   "execution_count": null,
   "metadata": {},
   "outputs": [],
   "source": []
  }
 ],
 "metadata": {
  "kernelspec": {
   "display_name": "Python 3",
   "language": "python",
   "name": "python3"
  },
  "language_info": {
   "codemirror_mode": {
    "name": "ipython",
    "version": 3
   },
   "file_extension": ".py",
   "mimetype": "text/x-python",
   "name": "python",
   "nbconvert_exporter": "python",
   "pygments_lexer": "ipython3",
   "version": "3.7.4"
  }
 },
 "nbformat": 4,
 "nbformat_minor": 4
}
